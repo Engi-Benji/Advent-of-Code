{
 "cells": [
  {
   "cell_type": "markdown",
   "source": [
    "Day 1"
   ],
   "metadata": {
    "collapsed": false
   },
   "id": "f4ab738a34d55ace"
  },
  {
   "cell_type": "code",
   "execution_count": 1,
   "id": "initial_id",
   "metadata": {
    "collapsed": true,
    "ExecuteTime": {
     "end_time": "2023-12-01T15:37:44.916196782Z",
     "start_time": "2023-12-01T15:37:44.915324393Z"
    }
   },
   "outputs": [
    {
     "name": "stdout",
     "output_type": "stream",
     "text": [
      "54078\n"
     ]
    }
   ],
   "source": [
    "f = open(\"./inputs/input.txt\", \"r\")\n",
    "\n",
    "count = 0\n",
    "dig1 = \"\"\n",
    "dig2 = \"\"\n",
    "\n",
    "validDigits = [\"one\", \"two\", \"three\", \"four\", \"five\", \"six\", \"seven\", \"eight\", \"nine\"]\n",
    "\n",
    "\n",
    "for line in f.readlines():\n",
    "    found1 = False\n",
    "    wordbuild = \"\"\n",
    "    for char in line:\n",
    "        if char.isdigit() and not found1:\n",
    "            found1 = True\n",
    "            dig1 = char\n",
    "        elif not found1:\n",
    "            wordbuild = wordbuild + char\n",
    "            counter = 1\n",
    "            for val in validDigits:\n",
    "                if val in wordbuild:\n",
    "                    #print(wordbuild)\n",
    "                    dig1 = str(counter)\n",
    "                    found1 = True\n",
    "                counter += 1\n",
    "                \n",
    "\n",
    "    found2 = False\n",
    "    wordbuild = \"\"\n",
    "    for char in line[::-1]:\n",
    "        if char.isdigit() and not found2:\n",
    "            found2 = True\n",
    "            dig2 = char\n",
    "        elif not found2:\n",
    "            wordbuild =  char + wordbuild\n",
    "            counter = 1\n",
    "            for val in validDigits:\n",
    "                if val in \"\".join(wordbuild):\n",
    "                    #print(wordbuild)\n",
    "                    dig2 = str(counter)\n",
    "                    found2 = True\n",
    "                counter += 1\n",
    "\n",
    "    numStr = dig1 + dig2\n",
    "    #print(numStr)\n",
    "    num = int(numStr)\n",
    "    count += num\n",
    "\n",
    "print(count)\n",
    "            "
   ]
  },
  {
   "cell_type": "markdown",
   "source": [
    "Day 2"
   ],
   "metadata": {
    "collapsed": false
   },
   "id": "4be7e77b458b0442"
  },
  {
   "cell_type": "code",
   "execution_count": 12,
   "outputs": [
    {
     "name": "stdout",
     "output_type": "stream",
     "text": [
      "2563\n"
     ]
    }
   ],
   "source": [
    "f = open(\"./inputs/day2.txt\", \"r\")\n",
    "\n",
    "red = 12\n",
    "green = 13\n",
    "blue = 14\n",
    "\n",
    "count = 1 \n",
    "sum = 0\n",
    "\n",
    "for line in f.readlines():\n",
    "    possible = True\n",
    "    x = line.split(\": \")\n",
    "    for xpart in x[1::]:\n",
    "        #print(xpart)\n",
    "        y = xpart.split(\"; \")\n",
    "        for ypart in y:\n",
    "            redDraw = 0\n",
    "            greenDraw = 0\n",
    "            blueDraw = 0\n",
    "            \n",
    "            \n",
    "            #print(ypart)\n",
    "            z = ypart.split(\", \")\n",
    "            for zpart in z:\n",
    "                #print(zpart)\n",
    "                combo = zpart.split(\" \")\n",
    "                if \"red\" in combo[1]:\n",
    "                    if int(combo[0]) > red and possible:\n",
    "                        possible = False\n",
    "                    elif redDraw > red and possible:\n",
    "                        possible = False\n",
    "                    else:\n",
    "                        redDraw = redDraw + int(combo[0])\n",
    "                elif \"blue\" in combo[1] and possible:\n",
    "                    if int(combo[0]) > blue:\n",
    "                        possible = False\n",
    "                    elif blueDraw > blue and possible:\n",
    "                        possible = False\n",
    "                    else:\n",
    "                        blueDraw = blueDraw + int(combo[0])\n",
    "                elif \"green\" in combo[1]:\n",
    "                    if int(combo[0]) > green and possible:\n",
    "                        possible = False\n",
    "                    elif greenDraw > green and possible:\n",
    "                        possible = False\n",
    "                    else:\n",
    "                        greenDraw = greenDraw + int(combo[0])\n",
    "    if possible:\n",
    "        sum = sum + count\n",
    "    \n",
    "    count += 1\n",
    "    \n",
    "print(sum)"
   ],
   "metadata": {
    "collapsed": false,
    "ExecuteTime": {
     "end_time": "2023-12-02T20:13:32.593642900Z",
     "start_time": "2023-12-02T20:13:32.589547100Z"
    }
   },
   "id": "efece2b6bdbbe318"
  },
  {
   "cell_type": "code",
   "execution_count": 13,
   "outputs": [
    {
     "name": "stdout",
     "output_type": "stream",
     "text": [
      "70768\n"
     ]
    }
   ],
   "source": [
    "f = open(\"./inputs/day2.txt\", \"r\")\n",
    "\n",
    "sum = 0\n",
    "\n",
    "for line in f.readlines():\n",
    "    possible = True\n",
    "    x = line.split(\": \")\n",
    "    for xpart in x[1::]:\n",
    "        maxRedDraw = 0\n",
    "        maxGreenDraw = 0\n",
    "        maxBlueDraw = 0\n",
    "        #print(xpart)\n",
    "        y = xpart.split(\"; \")\n",
    "        for ypart in y:\n",
    "            redDraw = 0\n",
    "            greenDraw = 0\n",
    "            blueDraw = 0\n",
    "\n",
    "            #print(ypart)\n",
    "            z = ypart.split(\", \")\n",
    "            for zpart in z:\n",
    "                #print(zpart)\n",
    "                combo = zpart.split(\" \")\n",
    "                if \"red\" in combo[1]:\n",
    "                    redDraw = redDraw + int(combo[0])\n",
    "                    if redDraw > maxRedDraw:\n",
    "                        maxRedDraw = redDraw\n",
    "                elif \"blue\" in combo[1] and possible:\n",
    "                    blueDraw = blueDraw + int(combo[0])\n",
    "                    if blueDraw > maxBlueDraw:\n",
    "                        maxBlueDraw = blueDraw\n",
    "                elif \"green\" in combo[1]:\n",
    "                    greenDraw = greenDraw + int(combo[0])\n",
    "                    if greenDraw > maxGreenDraw:\n",
    "                        maxGreenDraw = greenDraw\n",
    "        \n",
    "        totalPower = maxRedDraw * maxBlueDraw * maxGreenDraw\n",
    "        sum = sum + totalPower\n",
    "\n",
    "print(sum)"
   ],
   "metadata": {
    "collapsed": false,
    "ExecuteTime": {
     "end_time": "2023-12-02T20:23:48.257420700Z",
     "start_time": "2023-12-02T20:23:48.249932500Z"
    }
   },
   "id": "88afd31068d0ba0f"
  }
 ],
 "metadata": {
  "kernelspec": {
   "display_name": "Python 3",
   "language": "python",
   "name": "python3"
  },
  "language_info": {
   "codemirror_mode": {
    "name": "ipython",
    "version": 2
   },
   "file_extension": ".py",
   "mimetype": "text/x-python",
   "name": "python",
   "nbconvert_exporter": "python",
   "pygments_lexer": "ipython2",
   "version": "2.7.6"
  }
 },
 "nbformat": 4,
 "nbformat_minor": 5
}
