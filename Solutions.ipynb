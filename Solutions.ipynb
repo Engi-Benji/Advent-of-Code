{
 "cells": [
  {
   "cell_type": "markdown",
   "source": [
    "Day 1"
   ],
   "metadata": {
    "collapsed": false
   },
   "id": "f4ab738a34d55ace"
  },
  {
   "cell_type": "code",
   "execution_count": 1,
   "id": "initial_id",
   "metadata": {
    "collapsed": true,
    "ExecuteTime": {
     "end_time": "2023-12-01T15:37:44.916196782Z",
     "start_time": "2023-12-01T15:37:44.915324393Z"
    }
   },
   "outputs": [
    {
     "name": "stdout",
     "output_type": "stream",
     "text": [
      "54078\n"
     ]
    }
   ],
   "source": [
    "f = open(\"input.txt\", \"r\")\n",
    "\n",
    "count = 0\n",
    "dig1 = \"\"\n",
    "dig2 = \"\"\n",
    "\n",
    "validDigits = [\"one\", \"two\", \"three\", \"four\", \"five\", \"six\", \"seven\", \"eight\", \"nine\"]\n",
    "\n",
    "\n",
    "for line in f.readlines():\n",
    "    found1 = False\n",
    "    wordbuild = \"\"\n",
    "    for char in line:\n",
    "        if char.isdigit() and not found1:\n",
    "            found1 = True\n",
    "            dig1 = char\n",
    "        elif not found1:\n",
    "            wordbuild = wordbuild + char\n",
    "            counter = 1\n",
    "            for val in validDigits:\n",
    "                if val in wordbuild:\n",
    "                    #print(wordbuild)\n",
    "                    dig1 = str(counter)\n",
    "                    found1 = True\n",
    "                counter += 1\n",
    "                \n",
    "\n",
    "    found2 = False\n",
    "    wordbuild = \"\"\n",
    "    for char in line[::-1]:\n",
    "        if char.isdigit() and not found2:\n",
    "            found2 = True\n",
    "            dig2 = char\n",
    "        elif not found2:\n",
    "            wordbuild =  char + wordbuild\n",
    "            counter = 1\n",
    "            for val in validDigits:\n",
    "                if val in \"\".join(wordbuild):\n",
    "                    #print(wordbuild)\n",
    "                    dig2 = str(counter)\n",
    "                    found2 = True\n",
    "                counter += 1\n",
    "\n",
    "    numStr = dig1 + dig2\n",
    "    #print(numStr)\n",
    "    num = int(numStr)\n",
    "    count += num\n",
    "\n",
    "print(count)\n",
    "            "
   ]
  }
 ],
 "metadata": {
  "kernelspec": {
   "display_name": "Python 3",
   "language": "python",
   "name": "python3"
  },
  "language_info": {
   "codemirror_mode": {
    "name": "ipython",
    "version": 2
   },
   "file_extension": ".py",
   "mimetype": "text/x-python",
   "name": "python",
   "nbconvert_exporter": "python",
   "pygments_lexer": "ipython2",
   "version": "2.7.6"
  }
 },
 "nbformat": 4,
 "nbformat_minor": 5
}
